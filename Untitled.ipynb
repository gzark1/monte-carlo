{
 "cells": [
  {
   "cell_type": "markdown",
   "id": "9db129a0",
   "metadata": {},
   "source": [
    "## Overview\n",
    "\n",
    "In this analysis, we explore a decision-making problem that we encounter in casino dice game. The goal is to find an optimal strategy that maximizes our total (cumulative) earnings over multiple rounds.\n",
    "\n",
    "### Game Rules\n",
    "* We start with 100 tries and a starting dice value of 1.\n",
    "* Our dice has 20 sides.\n",
    "* At each turn/round, we have two choices:\n",
    "     * Keep the current value and collect that amount in euros.\n",
    "     * Re-roll the dice, which replaces our current number with a new random number from 1 to 20.\n",
    "* The number we choose to keep will be our new starting number for future rounds until we decide to replace it by rolling again.\n",
    "* Each action (keeping or re-rolling) costs one try. The game ends when we run out of tries (100 total).\n",
    "\n",
    "### Example Gameplay\n",
    "\n",
    "**Starting Conditions:**\n",
    "\n",
    "* Tries Left: 100\n",
    "* Current Dice Value: 1\n",
    "* Total Money Collected: 0\n",
    "\n",
    "**Round 1:**\n",
    "\n",
    "* Decision: Re-roll\n",
    "* New Roll: 12\n",
    "* Tries Left: 99\n",
    "* Total Money Collected: 0\n",
    "* New Starting Value for Next Round: 12\n",
    "\n",
    "**Round 2:**\n",
    "\n",
    "* Decision: Keep\n",
    "* Tries Left: 98\n",
    "* Total Money Collected: 12\n",
    "* New Starting Value for Next Round: 12\n",
    "**Round 3:**\n",
    "\n",
    "* Decision: Re-roll\n",
    "* New Roll: 8\n",
    "* Tries Left: 97\n",
    "* Total Money Collected: 12\n",
    "* New Starting Value for Next Round: 8\n",
    "**Round 4:**\n",
    "\n",
    "* Decision: Keep\n",
    "* Tries Left: 96\n",
    "* Total Money Collected: 12 + 8 = 20\n",
    "* New Starting Value for Next Round: 8\n",
    "\n",
    "This process continues until all 100 tries are used up.\n",
    "\n",
    "### When Should We Keep vs Re-roll?\n",
    "\n",
    "The challenge is to determine the best strategy for deciding when to keep the current number and when to risk rolling again to maximize total earnings. The answer is not so obvious, since:\n",
    "\n",
    "* Keeping a low number (for example 5) too early means we may miss out on much higher values later.\n",
    "* Rolling too often means we waste tries and might end up with a worse value.\n",
    "\n",
    "A **good strategy balances risk and reward**: keeping a high number to earn more but re-rolling when there's a good chance of getting an even better one."
   ]
  },
  {
   "cell_type": "markdown",
   "id": "56e1ba3a",
   "metadata": {},
   "source": [
    "## Mathematical Modeling and Python Implementation\n",
    "\n",
    "### Define Variables & Notation\n",
    "\n",
    "As shown above, at each round the player has \n",
    "* a starting/stored dice number $S_t$ at tries/time $t$.\n",
    "* A choice between:\n",
    "    1. Keeping $S_t$ and add it to total earnings.\n",
    "    2. Re-roll and replace $S_t$ with a new roll (1...20)\n",
    "* Total earnings $sum$ "
   ]
  },
  {
   "cell_type": "code",
   "execution_count": 5,
   "id": "688044ff",
   "metadata": {},
   "outputs": [],
   "source": [
    "# Define game parameters\n",
    "TOTAL_TRIES = 100  # Total rounds to play\n",
    "DICE_SIDES = 20  # Fair 20-sided dice"
   ]
  },
  {
   "cell_type": "markdown",
   "id": "9780c3e7",
   "metadata": {},
   "source": [
    "From Probability theory we know that the expected value of rolling a fair n-sided dice is:\n",
    "$$\n",
    "E[X]=\\frac{1+2+...+n}{n} = \\frac{n+1}{2}\n",
    "$$\n",
    "\n",
    "For a 20-sided dice:\n",
    "\n",
    "$$\n",
    "E[X]=\\frac{20+1}{2} = 10.5\n",
    "$$\n",
    "\n",
    "This is the expected value we have in each one of our re-rolls. Each roll is a **Random Experiment** that is not correlated to our current stored value $S_t$, the total earnings $sum$ or anything else.\n",
    "\n",
    "We will create a python class `Dice`to encapsulate the dice logic."
   ]
  },
  {
   "cell_type": "code",
   "execution_count": 6,
   "id": "15ab9e31",
   "metadata": {},
   "outputs": [
    {
     "name": "stdout",
     "output_type": "stream",
     "text": [
      "Expected dice roll value: 10.5\n"
     ]
    }
   ],
   "source": [
    "class Dice:\n",
    "    \"\"\"Represents a fair n-sided dice.\"\"\"\n",
    "    \n",
    "    def __init__(self, sides=20):\n",
    "        self.sides = sides\n",
    "\n",
    "    def roll(self):\n",
    "        \"\"\"Simulates rolling the dice, returning a random integer between 1 and n.\"\"\"\n",
    "        return np.random.randint(1, self.sides + 1)\n",
    "\n",
    "    def expected_value(self):\n",
    "        \"\"\"Compute expected value of rolling the dice.\"\"\"\n",
    "        return (1 + self.sides) / 2\n",
    "\n",
    "# Example Usage\n",
    "dice = Dice(sides=20)\n",
    "expected_value = dice.expected_value()\n",
    "print(f\"Expected dice roll value: {expected_value}\")"
   ]
  },
  {
   "cell_type": "markdown",
   "id": "ac222a2d",
   "metadata": {},
   "source": [
    "### Possible Earnings range\n",
    "\n",
    "Let's define the possible earnings range of this game.We will do that by examining the worst and best possible scenarios.\n",
    "\n",
    "* Worst-Case Scenario (Always Re-roll = 0 Earnings).\n",
    "\n",
    "    If a player never keeps any number and re-rolls for all 100 tries, they will never collect money, resulting in:\n",
    "\n",
    "$$\n",
    "sum = 0\n",
    "$$\n",
    "\n",
    "This is actually not a reasonable strategy, but it lets us define the range.\n",
    "\n",
    "* Best-Case Scenario (Perfect Play = 1980 Earnings)\n",
    "\n",
    "    The best possible scenario happens if:\n",
    "\n",
    "    * We re-roll the first time, moving from 1 to 20.\n",
    "    * We keep 20 for 99 rounds.\n",
    "\n",
    "$$\n",
    "sum = (0\\times1) + (99\\times20) = 1980\n",
    "$$\n",
    "\n",
    "So the earnings range for this game is $[0,1980]$"
   ]
  },
  {
   "cell_type": "code",
   "execution_count": null,
   "id": "f268adb0",
   "metadata": {},
   "outputs": [],
   "source": []
  }
 ],
 "metadata": {
  "kernelspec": {
   "display_name": "Python 3 (ipykernel)",
   "language": "python",
   "name": "python3"
  },
  "language_info": {
   "codemirror_mode": {
    "name": "ipython",
    "version": 3
   },
   "file_extension": ".py",
   "mimetype": "text/x-python",
   "name": "python",
   "nbconvert_exporter": "python",
   "pygments_lexer": "ipython3",
   "version": "3.10.12"
  }
 },
 "nbformat": 4,
 "nbformat_minor": 5
}

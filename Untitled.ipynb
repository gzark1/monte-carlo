{
 "cells": [
  {
   "cell_type": "markdown",
   "id": "9db129a0",
   "metadata": {},
   "source": [
    "## Overview\n",
    "\n",
    "In this analysis, we explore a decision-making problem that we encounter in casino dice game. The goal is to find an optimal strategy that maximizes our total (cumulative) earnings over multiple rounds.\n",
    "\n",
    "### Game Rules\n",
    "* We start with 100 tries and a starting dice value of 1.\n",
    "* Our dice has 20 sides.\n",
    "* At each turn/round, we have two choices:\n",
    "     * Keep the current value and collect that amount in euros.\n",
    "     * Re-roll the dice, which replaces our current number with a new random number from 1 to 20.\n",
    "* The number we choose to keep will be our new starting number for future rounds until we decide to replace it by rolling again.\n",
    "* Each action (keeping or re-rolling) costs one try. The game ends when we run out of tries (100 total).\n",
    "\n",
    "### Example Gameplay\n",
    "\n",
    "**Starting Conditions:**\n",
    "\n",
    "* Tries Left: 100\n",
    "* Current Dice Value: 1\n",
    "* Total Money Collected: 0\n",
    "\n",
    "**Round 1:**\n",
    "\n",
    "* Decision: Re-roll\n",
    "* New Roll: 12\n",
    "* Tries Left: 99\n",
    "* Total Money Collected: 0\n",
    "* New Starting Value for Next Round: 12\n",
    "\n",
    "**Round 2:**\n",
    "\n",
    "* Decision: Keep\n",
    "* Tries Left: 98\n",
    "* Total Money Collected: 12\n",
    "* New Starting Value for Next Round: 12\n",
    "**Round 3:**\n",
    "\n",
    "* Decision: Re-roll\n",
    "* New Roll: 8\n",
    "* Tries Left: 97\n",
    "* Total Money Collected: 12\n",
    "* New Starting Value for Next Round: 8\n",
    "**Round 4:**\n",
    "\n",
    "* Decision: Keep\n",
    "* Tries Left: 96\n",
    "* Total Money Collected: 12 + 8 = 20\n",
    "* New Starting Value for Next Round: 8\n",
    "\n",
    "This process continues until all 100 tries are used up.\n",
    "\n",
    "### When Should We Keep vs Re-roll?\n",
    "\n",
    "The challenge is to determine the best strategy for deciding when to keep the current number and when to risk rolling again to maximize total earnings. The answer is not so obvious, since:\n",
    "\n",
    "* Keeping a low number (for example 5) too early means we may miss out on much higher values later.\n",
    "* Rolling too often means we waste tries and might end up with a worse value.\n",
    "\n",
    "A **good strategy balances risk and reward**: keeping a high number to earn more but re-rolling when there's a good chance of getting an even better one."
   ]
  },
  {
   "cell_type": "markdown",
   "id": "56e1ba3a",
   "metadata": {},
   "source": [
    "## Mathematical Modeling and Python Implementation\n",
    "\n",
    "### Define Variables & Notation\n",
    "\n",
    "As shown above, at each round the player has \n",
    "* a starting/stored dice number $S_t$ at tries/time $t$.\n",
    "* A choice between:\n",
    "    1. Keeping $S_t$ and add it to total earnings.\n",
    "    2. Re-roll and replace $S_t$ with a new roll (1...20)\n",
    "* Total earnings $sum$ "
   ]
  },
  {
   "cell_type": "code",
   "execution_count": 12,
   "id": "688044ff",
   "metadata": {},
   "outputs": [],
   "source": [
    "# Define game parameters\n",
    "TOTAL_TRIES = 100  # Total rounds to play\n",
    "DICE_SIDES = 20  # Fair 20-sided dice"
   ]
  },
  {
   "cell_type": "markdown",
   "id": "9780c3e7",
   "metadata": {},
   "source": [
    "From Probability theory we know that the expected value of rolling a fair n-sided dice is:\n",
    "$$\n",
    "E[X]=\\frac{1+2+...+n}{n} = \\frac{n+1}{2}\n",
    "$$\n",
    "\n",
    "For a 20-sided dice:\n",
    "\n",
    "$$\n",
    "E[X]=\\frac{20+1}{2} = 10.5\n",
    "$$"
   ]
  },
  {
   "cell_type": "code",
   "execution_count": 10,
   "id": "15ab9e31",
   "metadata": {},
   "outputs": [
    {
     "name": "stdout",
     "output_type": "stream",
     "text": [
      "5\n"
     ]
    }
   ],
   "source": []
  },
  {
   "cell_type": "code",
   "execution_count": null,
   "id": "e27c2c45",
   "metadata": {},
   "outputs": [],
   "source": []
  }
 ],
 "metadata": {
  "kernelspec": {
   "display_name": "Python 3 (ipykernel)",
   "language": "python",
   "name": "python3"
  },
  "language_info": {
   "codemirror_mode": {
    "name": "ipython",
    "version": 3
   },
   "file_extension": ".py",
   "mimetype": "text/x-python",
   "name": "python",
   "nbconvert_exporter": "python",
   "pygments_lexer": "ipython3",
   "version": "3.10.12"
  }
 },
 "nbformat": 4,
 "nbformat_minor": 5
}
